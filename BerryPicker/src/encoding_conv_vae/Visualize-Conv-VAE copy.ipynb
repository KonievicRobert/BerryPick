{
 "cells": [
  {
   "cell_type": "markdown",
   "metadata": {},
   "source": [
    "# Visualize the performance of a Convolutional Variational Autoencoder\n",
    "\n",
    "Load a pre-trained model specified by an experiment/run, and runs a number of visualizations of the performance of the VAE. "
   ]
  },
  {
   "cell_type": "code",
   "execution_count": 1,
   "metadata": {},
   "outputs": [
    {
     "name": "stdout",
     "output_type": "stream",
     "text": [
      "Loading pointer config file: /home/robert/.config/BerryPicker/mainsettings.yaml\n",
      "Loading machine-specific config file: /home/robert/BerryPicker/src/settings.yaml\n"
     ]
    }
   ],
   "source": [
    "import sys\n",
    "sys.path.append(\"..\")\n",
    "# adding the Julian-8897-Conv-VAE-PyTorch into the path\n",
    "from settings import Config\n",
    "sys.path.append(Config()[\"conv_vae\"][\"code_dir\"])\n",
    "# from encoding_conv_vae.conv_vae import latest_json_and_model\n",
    "\n",
    "from sensorprocessing import sp_conv_vae\n",
    "from sensorprocessing import sp_helper\n",
    "\n",
    "from helper import ui_choose_task, ui_choose_demo\n",
    "import os\n",
    "import matplotlib.pyplot as plt\n",
    "from pathlib import Path\n",
    "import random\n",
    "\n",
    "# Oh, this hack was fixing something, but for me it is the other way around\n",
    "#temp = pathlib.PosixPath\n",
    "#pathlib.PosixPath = pathlib.WindowsPath"
   ]
  },
  {
   "cell_type": "code",
   "execution_count": 2,
   "metadata": {},
   "outputs": [],
   "source": [
    "run = \"vae_01\"\n"
   ]
  },
  {
   "cell_type": "markdown",
   "metadata": {},
   "source": [
    "## Pass one picture through the complete autoencoder\n",
    "\n",
    "Pass one specific picture through the complete autoencoder. Compare the input and the output. This is basically trying out whether the VAE had captured the picture sufficiently.\n",
    "\n",
    "This code also is intended as a sample of how to use the pre-trained model, how to feed it new data without the training code. "
   ]
  },
  {
   "cell_type": "raw",
   "metadata": {
    "vscode": {
     "languageId": "raw"
    }
   },
   "source": [
    "# picture_name = '../../localdata/img/Rafael.jpg'\n",
    "# picture_name = '../../localdata/img/indian-man.jpeg'\n",
    "# picture_name = '../../localdata/img/00029_dev2.jpg'\n",
    "\n",
    "# Choose a random image from the training data. \n",
    "\n",
    "directory = Path(Config()[\"conv_vae\"][\"training_data_dir\"], \"Images\")\n",
    "print(directory)\n",
    "files = list(directory.glob('*.jpg'))\n",
    "picture_name = Path(directory, files[11])\n"
   ]
  },
  {
   "cell_type": "markdown",
   "metadata": {},
   "source": [
    "Check if the sensor processing object works"
   ]
  },
  {
   "cell_type": "code",
   "execution_count": 3,
   "metadata": {},
   "outputs": [],
   "source": [
    "def visualize_VAE(sp, picture_name, axoriginal, axreconstr):\n",
    "    \"\"\"Visualize the performance of the reconstruction of a VAE sensorprocessing object. Show the original and the reconstruction in fields of a picture.\"\"\"\n",
    "    transform = sp_helper.get_transform_to_robot()\n",
    "    input, image = sp_helper.load_picturefile_to_tensor(picture_name, transform)\n",
    "    # Running the input on the output\n",
    "    output, mu, logvar = sp.model(input)\n",
    "    # Output: the visual reconstruction\n",
    "    output_for_pic = output[0].cpu().permute(1, 2, 0).detach().numpy()\n",
    "    # Showing the input and the reconstruction    \n",
    "    axoriginal.imshow(image)\n",
    "    axoriginal.set_title(\"Original\")\n",
    "    axreconstr.imshow(output_for_pic)\n",
    "    axreconstr.set_title(\"Reconstruct\")\n"
   ]
  },
  {
   "cell_type": "markdown",
   "metadata": {},
   "source": [
    "# Visualize a random set of images from a task with an SP"
   ]
  },
  {
   "cell_type": "code",
   "execution_count": 4,
   "metadata": {},
   "outputs": [
    {
     "name": "stdout",
     "output_type": "stream",
     "text": [
      "Demo directory /home/robert/BerryPicker/demos found with tasks []\n"
     ]
    },
    {
     "ename": "KeyError",
     "evalue": "5",
     "output_type": "error",
     "traceback": [
      "\u001b[0;31m---------------------------------------------------------------------------\u001b[0m",
      "\u001b[0;31mKeyError\u001b[0m                                  Traceback (most recent call last)",
      "Cell \u001b[0;32mIn[4], line 5\u001b[0m\n\u001b[1;32m      1\u001b[0m \u001b[38;5;66;03m# Choose a random set of images from a task\u001b[39;00m\n\u001b[1;32m      2\u001b[0m \n\u001b[1;32m      3\u001b[0m \u001b[38;5;66;03m# task_id = None; demo_id = None\u001b[39;00m\n\u001b[1;32m      4\u001b[0m task_id \u001b[38;5;241m=\u001b[39m \u001b[38;5;241m5\u001b[39m; demo_id \u001b[38;5;241m=\u001b[39m \u001b[38;5;241m1\u001b[39m\n\u001b[0;32m----> 5\u001b[0m _, task_dir \u001b[38;5;241m=\u001b[39m \u001b[43mui_choose_task\u001b[49m\u001b[43m(\u001b[49m\u001b[43moffer_task_creation\u001b[49m\u001b[38;5;241;43m=\u001b[39;49m\u001b[38;5;28;43;01mTrue\u001b[39;49;00m\u001b[43m,\u001b[49m\u001b[43m \u001b[49m\u001b[43mtask_id\u001b[49m\u001b[38;5;241;43m=\u001b[39;49m\u001b[43mtask_id\u001b[49m\u001b[43m)\u001b[49m\n\u001b[1;32m      6\u001b[0m \u001b[38;5;28mprint\u001b[39m(task_dir)\n\u001b[1;32m      7\u001b[0m demo_dir \u001b[38;5;241m=\u001b[39m ui_choose_demo(task_dir, demo_id\u001b[38;5;241m=\u001b[39mdemo_id)\n",
      "File \u001b[0;32m~/BerryPicker/src/encoding_conv_vae/../helper.py:36\u001b[0m, in \u001b[0;36mui_choose_task\u001b[0;34m(offer_task_creation, task_id)\u001b[0m\n\u001b[1;32m     34\u001b[0m \u001b[38;5;28;01mif\u001b[39;00m task_id \u001b[38;5;129;01mis\u001b[39;00m \u001b[38;5;28;01mNone\u001b[39;00m:\n\u001b[1;32m     35\u001b[0m     task_id \u001b[38;5;241m=\u001b[39m \u001b[38;5;28mint\u001b[39m(\u001b[38;5;28minput\u001b[39m(\u001b[38;5;124m\"\u001b[39m\u001b[38;5;124mChoose the task: \u001b[39m\u001b[38;5;124m\"\u001b[39m))\n\u001b[0;32m---> 36\u001b[0m task_dir \u001b[38;5;241m=\u001b[39m \u001b[43mtasks_dict\u001b[49m\u001b[43m[\u001b[49m\u001b[43mtask_id\u001b[49m\u001b[43m]\u001b[49m\n\u001b[1;32m     37\u001b[0m \u001b[38;5;28mprint\u001b[39m(\u001b[38;5;124mf\u001b[39m\u001b[38;5;124m\"\u001b[39m\u001b[38;5;124mYou chose task: \u001b[39m\u001b[38;5;132;01m{\u001b[39;00mtask_dir\u001b[38;5;241m.\u001b[39mname\u001b[38;5;132;01m}\u001b[39;00m\u001b[38;5;124m\"\u001b[39m)\n\u001b[1;32m     38\u001b[0m \u001b[38;5;28;01mreturn\u001b[39;00m data_dir, task_dir\n",
      "\u001b[0;31mKeyError\u001b[0m: 5"
     ]
    }
   ],
   "source": [
    "# Choose a random set of images from a task\n",
    "\n",
    "# task_id = None; demo_id = None\n",
    "task_id = 5; demo_id = 1\n",
    "_, task_dir = ui_choose_task(offer_task_creation=True, task_id=task_id)\n",
    "print(task_dir)\n",
    "demo_dir = ui_choose_demo(task_dir, demo_id=demo_id)\n",
    "# FIXME: need to choose the demonstration\n",
    "jpg_files = list(demo_dir.glob(\"*.jpg\"))\n",
    "n = 6\n",
    "randomjpg = random.sample(jpg_files, n)\n"
   ]
  },
  {
   "cell_type": "code",
   "execution_count": 5,
   "metadata": {},
   "outputs": [
    {
     "name": "stdout",
     "output_type": "stream",
     "text": [
      "Note: no system dependent config file /home/robert/BerryPicker/exp_config/conv_vae/vae_01_sysdep.yaml,\n",
      " that is ok, proceeding.\n",
      "Configuration for experiment: conv_vae/vae_01 successfully loaded\n",
      "/home/robert/BerryPicker/exp_data/conv_vae/vae_01/models/models/VAE_Robot/0108_204230/config.json\n",
      "/home/robert/BerryPicker/exp_data/conv_vae/vae_01/models/models/VAE_Robot/0108_204230/checkpoint-epoch10.pth\n"
     ]
    },
    {
     "ename": "FileNotFoundError",
     "evalue": "[Errno 2] No such file or directory: '/home/robert/BerryPicker/exp_data/conv_vae/vae_01/models/models/VAE_Robot/0108_204230/config.json'",
     "output_type": "error",
     "traceback": [
      "\u001b[0;31m---------------------------------------------------------------------------\u001b[0m",
      "\u001b[0;31mFileNotFoundError\u001b[0m                         Traceback (most recent call last)",
      "Cell \u001b[0;32mIn[5], line 1\u001b[0m\n\u001b[0;32m----> 1\u001b[0m sp \u001b[38;5;241m=\u001b[39m \u001b[43msp_conv_vae\u001b[49m\u001b[38;5;241;43m.\u001b[39;49m\u001b[43mget_sp_of_conv_vae_experiment\u001b[49m\u001b[43m(\u001b[49m\u001b[43mrun\u001b[49m\u001b[43m)\u001b[49m\n\u001b[1;32m      2\u001b[0m fig, axs \u001b[38;5;241m=\u001b[39m plt\u001b[38;5;241m.\u001b[39msubplots(\u001b[38;5;241m2\u001b[39m, n, figsize\u001b[38;5;241m=\u001b[39m(\u001b[38;5;241m10\u001b[39m, \u001b[38;5;241m5\u001b[39m))\n\u001b[1;32m      3\u001b[0m \u001b[38;5;28;01mfor\u001b[39;00m i \u001b[38;5;129;01min\u001b[39;00m \u001b[38;5;28mrange\u001b[39m(n):\n",
      "File \u001b[0;32m~/BerryPicker/src/encoding_conv_vae/../sensorprocessing/sp_conv_vae.py:61\u001b[0m, in \u001b[0;36mget_sp_of_conv_vae_experiment\u001b[0;34m(run)\u001b[0m\n\u001b[1;32m     59\u001b[0m     \u001b[38;5;28mprint\u001b[39m(\u001b[38;5;124m\"\u001b[39m\u001b[38;5;124mExists!\u001b[39m\u001b[38;5;124m\"\u001b[39m)\n\u001b[1;32m     60\u001b[0m \u001b[38;5;28mprint\u001b[39m(resume_model_pthfile)\n\u001b[0;32m---> 61\u001b[0m sp \u001b[38;5;241m=\u001b[39m \u001b[43mConvVaeSensorProcessing\u001b[49m\u001b[43m(\u001b[49m\u001b[43mconv_vae_jsonfile\u001b[49m\u001b[43m,\u001b[49m\u001b[43m \u001b[49m\u001b[43mresume_model_pthfile\u001b[49m\u001b[43m)\u001b[49m\n\u001b[1;32m     62\u001b[0m \u001b[38;5;28mprint\u001b[39m(sp\u001b[38;5;241m.\u001b[39mmodel)\n\u001b[1;32m     63\u001b[0m \u001b[38;5;28mprint\u001b[39m(sp\u001b[38;5;241m.\u001b[39mmodel\u001b[38;5;241m.\u001b[39mencoder)\n",
      "File \u001b[0;32m~/BerryPicker/src/encoding_conv_vae/../sensorprocessing/sp_conv_vae.py:75\u001b[0m, in \u001b[0;36mConvVaeSensorProcessing.__init__\u001b[0;34m(self, conv_vae_jsonfile, resume_model_pthfile)\u001b[0m\n\u001b[1;32m     73\u001b[0m \u001b[38;5;28mself\u001b[39m\u001b[38;5;241m.\u001b[39mconv_vae_jsonfile \u001b[38;5;241m=\u001b[39m conv_vae_jsonfile\n\u001b[1;32m     74\u001b[0m \u001b[38;5;28mself\u001b[39m\u001b[38;5;241m.\u001b[39mresume_model_pthfile \u001b[38;5;241m=\u001b[39m resume_model_pthfile\n\u001b[0;32m---> 75\u001b[0m \u001b[38;5;28mself\u001b[39m\u001b[38;5;241m.\u001b[39mvae_config \u001b[38;5;241m=\u001b[39m \u001b[43mget_conv_vae_config\u001b[49m\u001b[43m(\u001b[49m\n\u001b[1;32m     76\u001b[0m \u001b[43m    \u001b[49m\u001b[38;5;28;43mself\u001b[39;49m\u001b[38;5;241;43m.\u001b[39;49m\u001b[43mconv_vae_jsonfile\u001b[49m\u001b[43m,\u001b[49m\u001b[43m \u001b[49m\n\u001b[1;32m     77\u001b[0m \u001b[43m    \u001b[49m\u001b[38;5;28;43mself\u001b[39;49m\u001b[38;5;241;43m.\u001b[39;49m\u001b[43mresume_model_pthfile\u001b[49m\u001b[43m,\u001b[49m\u001b[43m \u001b[49m\n\u001b[1;32m     78\u001b[0m \u001b[43m    \u001b[49m\u001b[43minference_only\u001b[49m\u001b[38;5;241;43m=\u001b[39;49m\u001b[38;5;28;43;01mTrue\u001b[39;49;00m\u001b[43m)\u001b[49m\n\u001b[1;32m     79\u001b[0m \u001b[38;5;66;03m# build model architecture\u001b[39;00m\n\u001b[1;32m     80\u001b[0m \u001b[38;5;28mself\u001b[39m\u001b[38;5;241m.\u001b[39mmodel \u001b[38;5;241m=\u001b[39m \u001b[38;5;28mself\u001b[39m\u001b[38;5;241m.\u001b[39mvae_config\u001b[38;5;241m.\u001b[39minit_obj(\u001b[38;5;124m'\u001b[39m\u001b[38;5;124march\u001b[39m\u001b[38;5;124m'\u001b[39m, module_arch)\n",
      "File \u001b[0;32m~/BerryPicker/src/encoding_conv_vae/../encoding_conv_vae/conv_vae.py:215\u001b[0m, in \u001b[0;36mget_conv_vae_config\u001b[0;34m(jsonfile, resume_model, inference_only)\u001b[0m\n\u001b[1;32m    213\u001b[0m savedargv \u001b[38;5;241m=\u001b[39m sys\u001b[38;5;241m.\u001b[39margv\n\u001b[1;32m    214\u001b[0m sys\u001b[38;5;241m.\u001b[39margv \u001b[38;5;241m=\u001b[39m value\n\u001b[0;32m--> 215\u001b[0m config \u001b[38;5;241m=\u001b[39m \u001b[43mConfigParser\u001b[49m\u001b[38;5;241;43m.\u001b[39;49m\u001b[43mfrom_args\u001b[49m\u001b[43m(\u001b[49m\u001b[43margs\u001b[49m\u001b[43m)\u001b[49m\n\u001b[1;32m    216\u001b[0m sys\u001b[38;5;241m.\u001b[39margv \u001b[38;5;241m=\u001b[39m savedargv\n\u001b[1;32m    217\u001b[0m \u001b[38;5;66;03m# print(json.dumps(config.config, indent=4))\u001b[39;00m\n\u001b[1;32m    218\u001b[0m \u001b[38;5;66;03m#\u001b[39;00m\n\u001b[1;32m    219\u001b[0m \u001b[38;5;66;03m# THIS was an attempt to fix some kind of weird bug where an empty \u001b[39;00m\n\u001b[1;32m    220\u001b[0m \u001b[38;5;66;03m# directory was created... it is not needed on 2024.11.17???\u001b[39;00m\n\u001b[1;32m    221\u001b[0m \u001b[38;5;66;03m# if it is inference only, remove the superfluously created directories.\u001b[39;00m\n\u001b[1;32m    222\u001b[0m \u001b[38;5;66;03m#\u001b[39;00m\n",
      "File \u001b[0;32m~/BerryPicker/used_gits/Conv-VAE-PyTorch/parse_config.py:71\u001b[0m, in \u001b[0;36mConfigParser.from_args\u001b[0;34m(cls, args, options)\u001b[0m\n\u001b[1;32m     68\u001b[0m     resume \u001b[38;5;241m=\u001b[39m \u001b[38;5;28;01mNone\u001b[39;00m\n\u001b[1;32m     69\u001b[0m     cfg_fname \u001b[38;5;241m=\u001b[39m Path(args\u001b[38;5;241m.\u001b[39mconfig)\n\u001b[0;32m---> 71\u001b[0m config \u001b[38;5;241m=\u001b[39m \u001b[43mread_json\u001b[49m\u001b[43m(\u001b[49m\u001b[43mcfg_fname\u001b[49m\u001b[43m)\u001b[49m\n\u001b[1;32m     72\u001b[0m \u001b[38;5;28;01mif\u001b[39;00m args\u001b[38;5;241m.\u001b[39mconfig \u001b[38;5;129;01mand\u001b[39;00m resume:\n\u001b[1;32m     73\u001b[0m     \u001b[38;5;66;03m# update new config for fine-tuning\u001b[39;00m\n\u001b[1;32m     74\u001b[0m     config\u001b[38;5;241m.\u001b[39mupdate(read_json(args\u001b[38;5;241m.\u001b[39mconfig))\n",
      "File \u001b[0;32m~/BerryPicker/used_gits/Conv-VAE-PyTorch/utils/util.py:16\u001b[0m, in \u001b[0;36mread_json\u001b[0;34m(fname)\u001b[0m\n\u001b[1;32m     14\u001b[0m \u001b[38;5;28;01mdef\u001b[39;00m\u001b[38;5;250m \u001b[39m\u001b[38;5;21mread_json\u001b[39m(fname):\n\u001b[1;32m     15\u001b[0m     fname \u001b[38;5;241m=\u001b[39m Path(fname)\n\u001b[0;32m---> 16\u001b[0m     \u001b[38;5;28;01mwith\u001b[39;00m \u001b[43mfname\u001b[49m\u001b[38;5;241;43m.\u001b[39;49m\u001b[43mopen\u001b[49m\u001b[43m(\u001b[49m\u001b[38;5;124;43m'\u001b[39;49m\u001b[38;5;124;43mrt\u001b[39;49m\u001b[38;5;124;43m'\u001b[39;49m\u001b[43m)\u001b[49m \u001b[38;5;28;01mas\u001b[39;00m handle:\n\u001b[1;32m     17\u001b[0m         \u001b[38;5;28;01mreturn\u001b[39;00m json\u001b[38;5;241m.\u001b[39mload(handle, object_hook\u001b[38;5;241m=\u001b[39mOrderedDict)\n",
      "File \u001b[0;32m~/anaconda3/envs/berrypick/lib/python3.10/pathlib.py:1119\u001b[0m, in \u001b[0;36mPath.open\u001b[0;34m(self, mode, buffering, encoding, errors, newline)\u001b[0m\n\u001b[1;32m   1117\u001b[0m \u001b[38;5;28;01mif\u001b[39;00m \u001b[38;5;124m\"\u001b[39m\u001b[38;5;124mb\u001b[39m\u001b[38;5;124m\"\u001b[39m \u001b[38;5;129;01mnot\u001b[39;00m \u001b[38;5;129;01min\u001b[39;00m mode:\n\u001b[1;32m   1118\u001b[0m     encoding \u001b[38;5;241m=\u001b[39m io\u001b[38;5;241m.\u001b[39mtext_encoding(encoding)\n\u001b[0;32m-> 1119\u001b[0m \u001b[38;5;28;01mreturn\u001b[39;00m \u001b[38;5;28;43mself\u001b[39;49m\u001b[38;5;241;43m.\u001b[39;49m\u001b[43m_accessor\u001b[49m\u001b[38;5;241;43m.\u001b[39;49m\u001b[43mopen\u001b[49m\u001b[43m(\u001b[49m\u001b[38;5;28;43mself\u001b[39;49m\u001b[43m,\u001b[49m\u001b[43m \u001b[49m\u001b[43mmode\u001b[49m\u001b[43m,\u001b[49m\u001b[43m \u001b[49m\u001b[43mbuffering\u001b[49m\u001b[43m,\u001b[49m\u001b[43m \u001b[49m\u001b[43mencoding\u001b[49m\u001b[43m,\u001b[49m\u001b[43m \u001b[49m\u001b[43merrors\u001b[49m\u001b[43m,\u001b[49m\n\u001b[1;32m   1120\u001b[0m \u001b[43m                           \u001b[49m\u001b[43mnewline\u001b[49m\u001b[43m)\u001b[49m\n",
      "\u001b[0;31mFileNotFoundError\u001b[0m: [Errno 2] No such file or directory: '/home/robert/BerryPicker/exp_data/conv_vae/vae_01/models/models/VAE_Robot/0108_204230/config.json'"
     ]
    }
   ],
   "source": [
    "\n",
    "sp = sp_conv_vae.get_sp_of_conv_vae_experiment(run)\n",
    "fig, axs = plt.subplots(2, n, figsize=(10, 5))\n",
    "for i in range(n):\n",
    "    visualize_VAE(sp, randomjpg[i], axs[0,i], axs[1,i])"
   ]
  },
  {
   "cell_type": "code",
   "execution_count": 6,
   "metadata": {},
   "outputs": [
    {
     "name": "stdout",
     "output_type": "stream",
     "text": [
      "Note: no system dependent config file /home/robert/BerryPicker/exp_config/conv_vae/vae_01_sysdep.yaml,\n",
      " that is ok, proceeding.\n",
      "Configuration for experiment: conv_vae/vae_01 successfully loaded\n",
      "/home/robert/BerryPicker/exp_data/conv_vae/vae_01/models/models/VAE_Robot/0108_204230/config.json\n",
      "/home/robert/BerryPicker/exp_data/conv_vae/vae_01/models/models/VAE_Robot/0108_204230/checkpoint-epoch10.pth\n"
     ]
    },
    {
     "ename": "FileNotFoundError",
     "evalue": "[Errno 2] No such file or directory: '/home/robert/BerryPicker/exp_data/conv_vae/vae_01/models/models/VAE_Robot/0108_204230/config.json'",
     "output_type": "error",
     "traceback": [
      "\u001b[0;31m---------------------------------------------------------------------------\u001b[0m",
      "\u001b[0;31mFileNotFoundError\u001b[0m                         Traceback (most recent call last)",
      "Cell \u001b[0;32mIn[6], line 1\u001b[0m\n\u001b[0;32m----> 1\u001b[0m sp \u001b[38;5;241m=\u001b[39m \u001b[43msp_conv_vae\u001b[49m\u001b[38;5;241;43m.\u001b[39;49m\u001b[43mget_sp_of_conv_vae_experiment\u001b[49m\u001b[43m(\u001b[49m\u001b[38;5;124;43m\"\u001b[39;49m\u001b[38;5;124;43mvae_01\u001b[39;49m\u001b[38;5;124;43m\"\u001b[39;49m\u001b[43m)\u001b[49m\n\u001b[1;32m      2\u001b[0m fig, axs \u001b[38;5;241m=\u001b[39m plt\u001b[38;5;241m.\u001b[39msubplots(\u001b[38;5;241m2\u001b[39m, n, figsize\u001b[38;5;241m=\u001b[39m(\u001b[38;5;241m10\u001b[39m, \u001b[38;5;241m5\u001b[39m))\n\u001b[1;32m      3\u001b[0m \u001b[38;5;28;01mfor\u001b[39;00m i \u001b[38;5;129;01min\u001b[39;00m \u001b[38;5;28mrange\u001b[39m(n):\n",
      "File \u001b[0;32m~/BerryPicker/src/encoding_conv_vae/../sensorprocessing/sp_conv_vae.py:61\u001b[0m, in \u001b[0;36mget_sp_of_conv_vae_experiment\u001b[0;34m(run)\u001b[0m\n\u001b[1;32m     59\u001b[0m     \u001b[38;5;28mprint\u001b[39m(\u001b[38;5;124m\"\u001b[39m\u001b[38;5;124mExists!\u001b[39m\u001b[38;5;124m\"\u001b[39m)\n\u001b[1;32m     60\u001b[0m \u001b[38;5;28mprint\u001b[39m(resume_model_pthfile)\n\u001b[0;32m---> 61\u001b[0m sp \u001b[38;5;241m=\u001b[39m \u001b[43mConvVaeSensorProcessing\u001b[49m\u001b[43m(\u001b[49m\u001b[43mconv_vae_jsonfile\u001b[49m\u001b[43m,\u001b[49m\u001b[43m \u001b[49m\u001b[43mresume_model_pthfile\u001b[49m\u001b[43m)\u001b[49m\n\u001b[1;32m     62\u001b[0m \u001b[38;5;28mprint\u001b[39m(sp\u001b[38;5;241m.\u001b[39mmodel)\n\u001b[1;32m     63\u001b[0m \u001b[38;5;28mprint\u001b[39m(sp\u001b[38;5;241m.\u001b[39mmodel\u001b[38;5;241m.\u001b[39mencoder)\n",
      "File \u001b[0;32m~/BerryPicker/src/encoding_conv_vae/../sensorprocessing/sp_conv_vae.py:75\u001b[0m, in \u001b[0;36mConvVaeSensorProcessing.__init__\u001b[0;34m(self, conv_vae_jsonfile, resume_model_pthfile)\u001b[0m\n\u001b[1;32m     73\u001b[0m \u001b[38;5;28mself\u001b[39m\u001b[38;5;241m.\u001b[39mconv_vae_jsonfile \u001b[38;5;241m=\u001b[39m conv_vae_jsonfile\n\u001b[1;32m     74\u001b[0m \u001b[38;5;28mself\u001b[39m\u001b[38;5;241m.\u001b[39mresume_model_pthfile \u001b[38;5;241m=\u001b[39m resume_model_pthfile\n\u001b[0;32m---> 75\u001b[0m \u001b[38;5;28mself\u001b[39m\u001b[38;5;241m.\u001b[39mvae_config \u001b[38;5;241m=\u001b[39m \u001b[43mget_conv_vae_config\u001b[49m\u001b[43m(\u001b[49m\n\u001b[1;32m     76\u001b[0m \u001b[43m    \u001b[49m\u001b[38;5;28;43mself\u001b[39;49m\u001b[38;5;241;43m.\u001b[39;49m\u001b[43mconv_vae_jsonfile\u001b[49m\u001b[43m,\u001b[49m\u001b[43m \u001b[49m\n\u001b[1;32m     77\u001b[0m \u001b[43m    \u001b[49m\u001b[38;5;28;43mself\u001b[39;49m\u001b[38;5;241;43m.\u001b[39;49m\u001b[43mresume_model_pthfile\u001b[49m\u001b[43m,\u001b[49m\u001b[43m \u001b[49m\n\u001b[1;32m     78\u001b[0m \u001b[43m    \u001b[49m\u001b[43minference_only\u001b[49m\u001b[38;5;241;43m=\u001b[39;49m\u001b[38;5;28;43;01mTrue\u001b[39;49;00m\u001b[43m)\u001b[49m\n\u001b[1;32m     79\u001b[0m \u001b[38;5;66;03m# build model architecture\u001b[39;00m\n\u001b[1;32m     80\u001b[0m \u001b[38;5;28mself\u001b[39m\u001b[38;5;241m.\u001b[39mmodel \u001b[38;5;241m=\u001b[39m \u001b[38;5;28mself\u001b[39m\u001b[38;5;241m.\u001b[39mvae_config\u001b[38;5;241m.\u001b[39minit_obj(\u001b[38;5;124m'\u001b[39m\u001b[38;5;124march\u001b[39m\u001b[38;5;124m'\u001b[39m, module_arch)\n",
      "File \u001b[0;32m~/BerryPicker/src/encoding_conv_vae/../encoding_conv_vae/conv_vae.py:215\u001b[0m, in \u001b[0;36mget_conv_vae_config\u001b[0;34m(jsonfile, resume_model, inference_only)\u001b[0m\n\u001b[1;32m    213\u001b[0m savedargv \u001b[38;5;241m=\u001b[39m sys\u001b[38;5;241m.\u001b[39margv\n\u001b[1;32m    214\u001b[0m sys\u001b[38;5;241m.\u001b[39margv \u001b[38;5;241m=\u001b[39m value\n\u001b[0;32m--> 215\u001b[0m config \u001b[38;5;241m=\u001b[39m \u001b[43mConfigParser\u001b[49m\u001b[38;5;241;43m.\u001b[39;49m\u001b[43mfrom_args\u001b[49m\u001b[43m(\u001b[49m\u001b[43margs\u001b[49m\u001b[43m)\u001b[49m\n\u001b[1;32m    216\u001b[0m sys\u001b[38;5;241m.\u001b[39margv \u001b[38;5;241m=\u001b[39m savedargv\n\u001b[1;32m    217\u001b[0m \u001b[38;5;66;03m# print(json.dumps(config.config, indent=4))\u001b[39;00m\n\u001b[1;32m    218\u001b[0m \u001b[38;5;66;03m#\u001b[39;00m\n\u001b[1;32m    219\u001b[0m \u001b[38;5;66;03m# THIS was an attempt to fix some kind of weird bug where an empty \u001b[39;00m\n\u001b[1;32m    220\u001b[0m \u001b[38;5;66;03m# directory was created... it is not needed on 2024.11.17???\u001b[39;00m\n\u001b[1;32m    221\u001b[0m \u001b[38;5;66;03m# if it is inference only, remove the superfluously created directories.\u001b[39;00m\n\u001b[1;32m    222\u001b[0m \u001b[38;5;66;03m#\u001b[39;00m\n",
      "File \u001b[0;32m~/BerryPicker/used_gits/Conv-VAE-PyTorch/parse_config.py:71\u001b[0m, in \u001b[0;36mConfigParser.from_args\u001b[0;34m(cls, args, options)\u001b[0m\n\u001b[1;32m     68\u001b[0m     resume \u001b[38;5;241m=\u001b[39m \u001b[38;5;28;01mNone\u001b[39;00m\n\u001b[1;32m     69\u001b[0m     cfg_fname \u001b[38;5;241m=\u001b[39m Path(args\u001b[38;5;241m.\u001b[39mconfig)\n\u001b[0;32m---> 71\u001b[0m config \u001b[38;5;241m=\u001b[39m \u001b[43mread_json\u001b[49m\u001b[43m(\u001b[49m\u001b[43mcfg_fname\u001b[49m\u001b[43m)\u001b[49m\n\u001b[1;32m     72\u001b[0m \u001b[38;5;28;01mif\u001b[39;00m args\u001b[38;5;241m.\u001b[39mconfig \u001b[38;5;129;01mand\u001b[39;00m resume:\n\u001b[1;32m     73\u001b[0m     \u001b[38;5;66;03m# update new config for fine-tuning\u001b[39;00m\n\u001b[1;32m     74\u001b[0m     config\u001b[38;5;241m.\u001b[39mupdate(read_json(args\u001b[38;5;241m.\u001b[39mconfig))\n",
      "File \u001b[0;32m~/BerryPicker/used_gits/Conv-VAE-PyTorch/utils/util.py:16\u001b[0m, in \u001b[0;36mread_json\u001b[0;34m(fname)\u001b[0m\n\u001b[1;32m     14\u001b[0m \u001b[38;5;28;01mdef\u001b[39;00m\u001b[38;5;250m \u001b[39m\u001b[38;5;21mread_json\u001b[39m(fname):\n\u001b[1;32m     15\u001b[0m     fname \u001b[38;5;241m=\u001b[39m Path(fname)\n\u001b[0;32m---> 16\u001b[0m     \u001b[38;5;28;01mwith\u001b[39;00m \u001b[43mfname\u001b[49m\u001b[38;5;241;43m.\u001b[39;49m\u001b[43mopen\u001b[49m\u001b[43m(\u001b[49m\u001b[38;5;124;43m'\u001b[39;49m\u001b[38;5;124;43mrt\u001b[39;49m\u001b[38;5;124;43m'\u001b[39;49m\u001b[43m)\u001b[49m \u001b[38;5;28;01mas\u001b[39;00m handle:\n\u001b[1;32m     17\u001b[0m         \u001b[38;5;28;01mreturn\u001b[39;00m json\u001b[38;5;241m.\u001b[39mload(handle, object_hook\u001b[38;5;241m=\u001b[39mOrderedDict)\n",
      "File \u001b[0;32m~/anaconda3/envs/berrypick/lib/python3.10/pathlib.py:1119\u001b[0m, in \u001b[0;36mPath.open\u001b[0;34m(self, mode, buffering, encoding, errors, newline)\u001b[0m\n\u001b[1;32m   1117\u001b[0m \u001b[38;5;28;01mif\u001b[39;00m \u001b[38;5;124m\"\u001b[39m\u001b[38;5;124mb\u001b[39m\u001b[38;5;124m\"\u001b[39m \u001b[38;5;129;01mnot\u001b[39;00m \u001b[38;5;129;01min\u001b[39;00m mode:\n\u001b[1;32m   1118\u001b[0m     encoding \u001b[38;5;241m=\u001b[39m io\u001b[38;5;241m.\u001b[39mtext_encoding(encoding)\n\u001b[0;32m-> 1119\u001b[0m \u001b[38;5;28;01mreturn\u001b[39;00m \u001b[38;5;28;43mself\u001b[39;49m\u001b[38;5;241;43m.\u001b[39;49m\u001b[43m_accessor\u001b[49m\u001b[38;5;241;43m.\u001b[39;49m\u001b[43mopen\u001b[49m\u001b[43m(\u001b[49m\u001b[38;5;28;43mself\u001b[39;49m\u001b[43m,\u001b[49m\u001b[43m \u001b[49m\u001b[43mmode\u001b[49m\u001b[43m,\u001b[49m\u001b[43m \u001b[49m\u001b[43mbuffering\u001b[49m\u001b[43m,\u001b[49m\u001b[43m \u001b[49m\u001b[43mencoding\u001b[49m\u001b[43m,\u001b[49m\u001b[43m \u001b[49m\u001b[43merrors\u001b[49m\u001b[43m,\u001b[49m\n\u001b[1;32m   1120\u001b[0m \u001b[43m                           \u001b[49m\u001b[43mnewline\u001b[49m\u001b[43m)\u001b[49m\n",
      "\u001b[0;31mFileNotFoundError\u001b[0m: [Errno 2] No such file or directory: '/home/robert/BerryPicker/exp_data/conv_vae/vae_01/models/models/VAE_Robot/0108_204230/config.json'"
     ]
    }
   ],
   "source": [
    "\n",
    "sp = sp_conv_vae.get_sp_of_conv_vae_experiment(\"vae_01\")\n",
    "fig, axs = plt.subplots(2, n, figsize=(10, 5))\n",
    "for i in range(n):\n",
    "    visualize_VAE(sp, randomjpg[i], axs[0,i], axs[1,i])"
   ]
  },
  {
   "cell_type": "code",
   "execution_count": null,
   "metadata": {},
   "outputs": [],
   "source": [
    "\n",
    "# Try to do a decoding from the same mu\n",
    "z2 = sp.model.reparameterize(mu, logvar)\n",
    "\n",
    "for i in range(Config().values[\"robot\"][\"latent_encoding_size\"]):\n",
    "    z2[0][i] = z2[0][i] + 0.1\n",
    "\n",
    "#z2[0][1] = 2.0\n",
    "#z2[0][3] = 2.0\n",
    "output2 = sp.model.decode(z2)\n",
    "output_for_pic2 = output2[0].cpu().permute(1, 2, 0).detach().numpy()\n",
    "\n",
    "# initial and new\n",
    "fig, axs = plt.subplots(1, 2, figsize=(10, 5))\n",
    "\n",
    "axs[0].imshow(output_for_pic)\n",
    "axs[1].imshow(output_for_pic2)\n"
   ]
  },
  {
   "cell_type": "markdown",
   "metadata": {},
   "source": [
    "# Generating random samples from the model"
   ]
  },
  {
   "cell_type": "code",
   "execution_count": null,
   "metadata": {},
   "outputs": [],
   "source": [
    "import random\n",
    "\n",
    "# z2 = model.reparameterize(mu, logvar)\n",
    "# initial and new\n",
    "fig, axs = plt.subplots(5, 5, figsize=(10, 10))\n",
    "for x in range(0, 5):\n",
    "    for y in range(0, 5):\n",
    "            z2 = sp.model.reparameterize(mu, logvar)\n",
    "            for i in range(Config().values[\"robot\"][\"latent_encoding_size\"]):\n",
    "                z2[0][i] += random.uniform(-0.5, 0.5)\n",
    "            output2 = sp.model.decode(z2)\n",
    "            output_for_pic2 = output2[0].cpu().permute(1, 2, 0).detach().numpy()\n",
    "            axs[x][y].imshow(output_for_pic2)\n",
    "#axs[0].imshow(output_for_pic)\n",
    "#axs[1].imshow(output_for_pic2)"
   ]
  },
  {
   "cell_type": "code",
   "execution_count": null,
   "metadata": {},
   "outputs": [],
   "source": []
  }
 ],
 "metadata": {
  "kernelspec": {
   "display_name": "berrypick",
   "language": "python",
   "name": "python3"
  },
  "language_info": {
   "codemirror_mode": {
    "name": "ipython",
    "version": 3
   },
   "file_extension": ".py",
   "mimetype": "text/x-python",
   "name": "python",
   "nbconvert_exporter": "python",
   "pygments_lexer": "ipython3",
   "version": "3.10.16"
  }
 },
 "nbformat": 4,
 "nbformat_minor": 2
}
